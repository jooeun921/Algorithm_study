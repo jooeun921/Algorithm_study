{
  "nbformat": 4,
  "nbformat_minor": 0,
  "metadata": {
    "colab": {
      "private_outputs": true,
      "provenance": [],
      "authorship_tag": "ABX9TyNbgmoYOE7WYZX6huNCiG9o",
      "include_colab_link": true
    },
    "kernelspec": {
      "name": "python3",
      "display_name": "Python 3"
    },
    "language_info": {
      "name": "python"
    }
  },
  "cells": [
    {
      "cell_type": "markdown",
      "metadata": {
        "id": "view-in-github",
        "colab_type": "text"
      },
      "source": [
        "<a href=\"https://colab.research.google.com/github/jooeun921/Algorithm_study/blob/main/Part01_python_basic.ipynb\" target=\"_parent\"><img src=\"https://colab.research.google.com/assets/colab-badge.svg\" alt=\"Open In Colab\"/></a>"
      ]
    },
    {
      "cell_type": "markdown",
      "source": [
        "## Part 01. Python 기초와 데이터 구조"
      ],
      "metadata": {
        "id": "OiPKvCSmxeVa"
      }
    },
    {
      "cell_type": "markdown",
      "source": [
        "### Section 01. 연습문제"
      ],
      "metadata": {
        "id": "aCDHstSBxlj2"
      }
    },
    {
      "cell_type": "code",
      "source": [
        "city_name = \"세종\"\n",
        "age = 23\n",
        "is_student = True\n",
        "\n",
        "print(city_name)\n",
        "print(age)\n",
        "print(is_student)"
      ],
      "metadata": {
        "id": "da6PInfoveiq"
      },
      "execution_count": null,
      "outputs": []
    },
    {
      "cell_type": "markdown",
      "source": [
        "#### 변수명 사용 가능\n",
        "user_name = 1\n",
        "totalPrice = 2\n",
        "number_2 = True\n",
        "\n",
        "\n",
        "#### 변수명 불가능. 숫자로 시작, 예약어\n",
        "3value\n",
        "if"
      ],
      "metadata": {
        "id": "pn590d3lwlNB"
      }
    },
    {
      "cell_type": "code",
      "source": [
        "x = 12\n",
        "y = 4\n",
        "\n",
        "print((x-y) * y / x)\n",
        "print(x ** y // x)\n",
        "print((x % y) + 2)"
      ],
      "metadata": {
        "id": "fy7-ssXMvbMh"
      },
      "execution_count": null,
      "outputs": []
    },
    {
      "cell_type": "code",
      "source": [
        "price = 12000\n",
        "quantity = 3\n",
        "total_price = price * quantity\n",
        "print(total_price >= 10000 and total_price <= 50000)"
      ],
      "metadata": {
        "id": "0HQ2o_UZxCx-"
      },
      "execution_count": null,
      "outputs": []
    },
    {
      "cell_type": "code",
      "source": [
        "a_list = [1, 2, 3, 4, 5]\n",
        "b_list = [3]\n",
        "\n",
        "# a_plus = sorted(a_list, reverse = True)\n",
        "a_list.sort(key = lambda x : x % 2 == 0, reverse = True)\n",
        "a_plus = sorted([x for x in a_list if x % 2 == 0], reverse = False)\n",
        "print(a_plus)"
      ],
      "metadata": {
        "id": "0oqb3xlNz7oZ"
      },
      "execution_count": null,
      "outputs": []
    },
    {
      "cell_type": "code",
      "source": [
        "dict_a = {'a': 1, 'b': 2, 'c': 3}\n",
        "list_b = ['d', 'e', 'f']\n",
        "dict_b = {key : '1'+key for key in list_b}\n",
        "print(dict_a)\n",
        "print(dict_b)"
      ],
      "metadata": {
        "id": "4vi2lPA01LJR"
      },
      "execution_count": null,
      "outputs": []
    },
    {
      "cell_type": "code",
      "source": [
        "dict_a.get('d', 2)"
      ],
      "metadata": {
        "id": "1YxpBerM3sDc"
      },
      "execution_count": null,
      "outputs": []
    },
    {
      "cell_type": "code",
      "source": [
        "a_set = {10, 20, 30}\n",
        "b_set = {30, 40, 50}\n",
        "\n",
        "a_set.update(b_set)\n",
        "# 겹치는 요소가 있으면 False\n",
        "a_set.isdisjoint(b_set)\n",
        "# 하위집합이면 True\n",
        "a_set.issubset(b_set)\n",
        "# 상위집합이면 True\n",
        "a_set.issuperset(b_set)"
      ],
      "metadata": {
        "id": "WXxGyp0P4Ib1"
      },
      "execution_count": null,
      "outputs": []
    },
    {
      "cell_type": "code",
      "source": [
        "nums = [5, 10, 10, 15]\n",
        "\n",
        "tup_nums = tuple(nums)\n",
        "set_nums = set(tup_nums)\n",
        "print(len(set_nums))"
      ],
      "metadata": {
        "id": "3cvo3Vwa53Fs"
      },
      "execution_count": null,
      "outputs": []
    },
    {
      "cell_type": "code",
      "source": [
        "profile = {\n",
        "    \"name\" : \"Jane\",\n",
        "    \"age\" : 27,\n",
        "    \"city\" : \"Busan\"\n",
        "}\n",
        "\n",
        "profile[\"age\"] = 28\n",
        "# profile.pop(\"city\")\n",
        "del profile[\"city\"]\n",
        "\n",
        "print(profile)"
      ],
      "metadata": {
        "id": "6-1RJXzx6O4Z"
      },
      "execution_count": null,
      "outputs": []
    },
    {
      "cell_type": "code",
      "source": [
        "set_x = {1, 2, 3, 4}\n",
        "set_y = {3, 4, 5, 6}\n",
        "\n",
        "print(set_x.union(set_y))\n",
        "print(set_x.intersection(set_y))\n",
        "print(set_x.difference(set_y))"
      ],
      "metadata": {
        "id": "uV6OetV467LZ"
      },
      "execution_count": null,
      "outputs": []
    },
    {
      "cell_type": "code",
      "source": [
        "sentence = \"Python Is FUN\"\n",
        "# result = sentence[:6].upper() + sentence[6:].lower()\n",
        "result = sentence.lower().replace(\"python\", \"PYTHON\")\n",
        "print(result)"
      ],
      "metadata": {
        "id": "SWeFdeo07tKo"
      },
      "execution_count": null,
      "outputs": []
    },
    {
      "cell_type": "code",
      "source": [
        "import numpy as np\n",
        "\n",
        "array_a = np.array([1, 2, 3])\n",
        "print(array_a)\n",
        "array_b = np.arange(1, 10, 2)\n",
        "print(array_b)\n",
        "array_c = np.linspace(1, 10, 9, endpoint= False)\n",
        "print(array_c)"
      ],
      "metadata": {
        "id": "lOKMZmjg8Z8l"
      },
      "execution_count": null,
      "outputs": []
    },
    {
      "cell_type": "code",
      "source": [
        "print(np.linspace.__doc__)\n",
        "# help(np.linspace)\n"
      ],
      "metadata": {
        "collapsed": true,
        "id": "BBqPtFge-fNB"
      },
      "execution_count": null,
      "outputs": []
    },
    {
      "cell_type": "code",
      "source": [
        "print(np.eye.__doc__)"
      ],
      "metadata": {
        "collapsed": true,
        "id": "h_4_F-DF-qvf"
      },
      "execution_count": null,
      "outputs": []
    },
    {
      "cell_type": "code",
      "source": [
        "np.random.seed(42)\n",
        "a = np.random.randint(1, 21, 10)\n",
        "\n",
        "print(a)\n",
        "print(a[2:5])\n",
        "print(a[[1, 2, 3]])\n",
        "print(type(a))\n",
        "print(a[1])\n",
        "print(a[[1]])\n",
        "\n",
        "print(a[a % 2 == 0])"
      ],
      "metadata": {
        "id": "esOeuZrPAzVP"
      },
      "execution_count": null,
      "outputs": []
    },
    {
      "cell_type": "code",
      "source": [
        "a = np.array([1, 2, 3, 4, 5])\n",
        "a_new = a+5\n",
        "print(a_new)"
      ],
      "metadata": {
        "id": "GaBAyj05BRI2"
      },
      "execution_count": null,
      "outputs": []
    },
    {
      "cell_type": "code",
      "source": [
        "a = np.array([12, 21, 35, 48, 5])\n",
        "a_new = a[::2]\n",
        "print(a_new)"
      ],
      "metadata": {
        "id": "CzziSAvsHD7T"
      },
      "execution_count": null,
      "outputs": []
    },
    {
      "cell_type": "code",
      "source": [
        "a = np.array([1, 22, 93, 64, 54])\n",
        "print(a.max())\n",
        "print(np.max(a))"
      ],
      "metadata": {
        "id": "st7IVCpgHQ8K"
      },
      "execution_count": null,
      "outputs": []
    },
    {
      "cell_type": "code",
      "source": [
        "a = np.array([1, 2, 3, 2, 4, 5, 4, 6])\n",
        "a_new = np.unique(a)\n",
        "print(a_new)"
      ],
      "metadata": {
        "id": "Gkjzund2HWIu"
      },
      "execution_count": null,
      "outputs": []
    },
    {
      "cell_type": "code",
      "source": [
        "a = np.array([21, 31, 58])\n",
        "b = np.array([24, 44, 67])\n",
        "\n",
        "new_ab = np.stack((a, b), axis=-1)\n",
        "# new_ab = np.reshape(new_ab, -1)\n",
        "new_ab = new_ab.flatten()\n",
        "print(new_ab)\n",
        "\n",
        "c = np.empty(a.size + b.size, dtype = a.dtype)\n",
        "c[0::2] = a\n",
        "c[1::2] = b\n",
        "print(c)"
      ],
      "metadata": {
        "id": "121rZE5DHd1J"
      },
      "execution_count": null,
      "outputs": []
    },
    {
      "cell_type": "code",
      "source": [
        "a = np.array([1, 2, 3, 4, 5])\n",
        "b = np.array([6, 7, 8, 9])\n",
        "\n",
        "print(a[:-1] + b)"
      ],
      "metadata": {
        "id": "KuBpOhLSIWBR"
      },
      "execution_count": null,
      "outputs": []
    },
    {
      "cell_type": "code",
      "source": [
        "# 이거 이제 잘 안씀. matrix. 행렬. 곱셈할 때도 array 곱셈은 각각의 원소별이면, matrix은 행렬곱임.\n",
        "A = np.matrix([[3, 5, 7], [2, 3, 6]])\n",
        "A_p = np.array([3, 5, 7, 2, 3, 6]).reshape(2, 3)\n",
        "print(A)\n",
        "print(A_p)"
      ],
      "metadata": {
        "id": "j4d_9qZ0Jejn"
      },
      "execution_count": null,
      "outputs": []
    },
    {
      "cell_type": "code",
      "source": [
        "B = np.array([\n",
        "    [8, 10, 7, 8],\n",
        "     [2, 4, 5, 5],\n",
        "      [7, 6, 1, 7],\n",
        "       [2, 6, 8, 6],\n",
        "        [9, 3, 4, 2]\n",
        "    ])\n",
        "\n",
        "B_new = B[[1, 3, 4]]\n",
        "B_new_p = B[:, [0, 1]]\n",
        "print(B_new)\n",
        "print(B_new_p)"
      ],
      "metadata": {
        "id": "rba7_CNJL6ds"
      },
      "execution_count": null,
      "outputs": []
    },
    {
      "cell_type": "code",
      "source": [
        "B_3 = B[B[:, 2] > 3, :] # 모든 행에서, 2번 열(3번째 열)의 값이 3보다 큰 경우 = True 면 그때의 행값 전체를 가져옴.\n",
        "print(B_3)"
      ],
      "metadata": {
        "id": "aL0wHWgCM5Oy"
      },
      "execution_count": null,
      "outputs": []
    },
    {
      "cell_type": "code",
      "source": [
        "row_sums = np.sum(B, axis=1)\n",
        "\n",
        "B_4 = B[ np.sum(B, axis=1) >= 20, :]\n",
        "# B_4 = B[ row_sums >= 20, :]\n",
        "print(B_4)"
      ],
      "metadata": {
        "id": "xaEDfslGNyid"
      },
      "execution_count": null,
      "outputs": []
    },
    {
      "cell_type": "code",
      "source": [
        "result = np.where(np.mean(B, axis=0) >= 5)[0]\n",
        "print(result)"
      ],
      "metadata": {
        "id": "4NMJ5T6rQuI3"
      },
      "execution_count": null,
      "outputs": []
    },
    {
      "cell_type": "code",
      "source": [
        "# print(B >= 5)\n",
        "# print(np.sum(B >= 5))\n",
        "\n",
        "# np.sum에서 axis = 1은 행기준. axis = 0은 열기준으로 합을 구함.\n",
        "# B > 7 는 개별. 이때, 7보다 큰 수들은 True = 1로 계산됨.\n",
        "\n",
        "\n",
        "B[np.sum(B > 7, axis = 1) > 0]"
      ],
      "metadata": {
        "id": "y4vqJSn-RH6v"
      },
      "execution_count": null,
      "outputs": []
    },
    {
      "cell_type": "code",
      "source": [
        "def multiply_by_ten(x=7):\n",
        "    return x * 10\n",
        "\n",
        "print(multiply_by_ten() + multiply_by_ten(5))"
      ],
      "metadata": {
        "id": "wHbgiRJ8x8oa"
      },
      "execution_count": null,
      "outputs": []
    },
    {
      "cell_type": "code",
      "source": [
        "def classify_number(x):\n",
        "    if x >= 100:\n",
        "        result = \"Very Large\"\n",
        "    elif x < 100 and x >= 10:\n",
        "        result = \"Large\"\n",
        "    elif x >= 0 and x < 10:\n",
        "        result = \"Small\"\n",
        "    elif x < 0:\n",
        "        result = \"Negative\"\n",
        "    return result\n",
        "\n",
        "print(classify_number(120))\n",
        "print(classify_number(50))\n",
        "print(classify_number(5))\n",
        "print(classify_number(-7))"
      ],
      "metadata": {
        "id": "vyWJ2mxw1mj5"
      },
      "execution_count": null,
      "outputs": []
    },
    {
      "cell_type": "code",
      "source": [
        "counter = 0\n",
        "\n",
        "def increase_counter():\n",
        "    global counter\n",
        "    counter += 1\n",
        "    return counter\n",
        "\n",
        "print(increase_counter())\n",
        "print(increase_counter())\n",
        "print(increase_counter())"
      ],
      "metadata": {
        "id": "JkSi6ybj2Gs_"
      },
      "execution_count": null,
      "outputs": []
    },
    {
      "cell_type": "code",
      "source": [
        "def count_even_numbers():\n",
        "    count = 0\n",
        "    for i in range(1, 11):\n",
        "        if i % 2 == 0:\n",
        "            count += 1\n",
        "    return count\n",
        "\n",
        "count_even_numbers()"
      ],
      "metadata": {
        "id": "AvD0NYaS2j7M"
      },
      "execution_count": null,
      "outputs": []
    },
    {
      "cell_type": "code",
      "source": [
        "def sum_until_limit(x):\n",
        "    result = 0\n",
        "    while True:\n",
        "        result += x\n",
        "        if result >= 20:\n",
        "            break\n",
        "        x += 2\n",
        "    return result\n",
        "\n",
        "sum_until_limit(1)"
      ],
      "metadata": {
        "id": "Hb5xFBxK3Dr5"
      },
      "execution_count": null,
      "outputs": []
    },
    {
      "cell_type": "code",
      "source": [],
      "metadata": {
        "id": "YyMF3wE-3Y69"
      },
      "execution_count": null,
      "outputs": []
    }
  ]
}